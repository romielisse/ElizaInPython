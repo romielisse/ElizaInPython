{
 "cells": [
  {
   "cell_type": "code",
   "execution_count": 2,
   "metadata": {},
   "outputs": [
    {
     "name": "stdout",
     "output_type": "stream",
     "text": [
      "Enter a message or quit(Q): jdlkfl\n",
      "It is getting late, maybe we had better quit\n",
      "Enter a message or quit(Q): q\n",
      "Have a nice day.\n"
     ]
    }
   ],
   "source": [
    "import random\n",
    "\n",
    "# List of hedges\n",
    "hedge_list = [\"Please tell me more\",\n",
    "               \"Many of my patients tell me the same thing\",\n",
    "               \"It is getting late, maybe we had better quit\"]\n",
    "\n",
    "# List of qualifiers\n",
    "qualifier_list = [\"Why do you say that\",\n",
    "                    \"You seem to think that\",\n",
    "                    \"So, you are concerned that\"]\n",
    "\n",
    "# Dictionary of words to replace\n",
    "word_replacements = {\"i\":\"you\",\n",
    "                    \"me\":\"you\",\n",
    "                    \"my\":\"your\",\n",
    "                    \"am\":\"are\"}\n",
    "\n",
    "# returns 0 for hedges, 1 for qualifiers\n",
    "def getResponseType():\n",
    "    return random.randint(0,1)\n",
    "    \n",
    "# return user_input string with dictionary keys replaced\n",
    "def replace_all(text, dic):\n",
    "    text = text.replace(\" \",\".\")\n",
    "    text = \".\" + text + \".\"\n",
    "    text = text.lower()\n",
    "    \n",
    "    for i, j in dic.items():\n",
    "        text = text.replace(\".\" + i + \".\", \" \" + j + \" \")\n",
    "    \n",
    "    text = text.replace(\".\", \" \")\n",
    "    return text\n",
    "\n",
    "# return random response based on response \n",
    "# type (hedge or qualifier) passed in\n",
    "def getRandomResponse(responseType, user_input):\n",
    "    if(responseType == 0):\n",
    "        return hedge_list[random.randint(0,len(hedge_list)-1)]\n",
    "    else:\n",
    "        replaced_string = replace_all(user_input, word_replacements)\n",
    "        return qualifier_list[random.randint(0,len(qualifier_list)-1)] + replaced_string\n",
    "\n",
    "while True:\n",
    "    # Get input from the user\n",
    "    user_input = input(\"Enter a message or quit(Q): \")\n",
    "    \n",
    "    # Get response type as hedge or qualifier\n",
    "    responseType = getResponseType()\n",
    "    \n",
    "    # Determine if user wants to quit, else respond with message\n",
    "    if(user_input.upper() == \"Q\"):\n",
    "        break;\n",
    "    else:\n",
    "        print(getRandomResponse(responseType, user_input))\n",
    "        \n",
    "print(\"Have a nice day.\")\n",
    "\n",
    "\n"
   ]
  },
  {
   "cell_type": "code",
   "execution_count": null,
   "metadata": {
    "collapsed": true
   },
   "outputs": [],
   "source": []
  }
 ],
 "metadata": {
  "kernelspec": {
   "display_name": "Python 3",
   "language": "python",
   "name": "python3"
  },
  "language_info": {
   "codemirror_mode": {
    "name": "ipython",
    "version": 3
   },
   "file_extension": ".py",
   "mimetype": "text/x-python",
   "name": "python",
   "nbconvert_exporter": "python",
   "pygments_lexer": "ipython3",
   "version": "3.6.3"
  }
 },
 "nbformat": 4,
 "nbformat_minor": 2
}
